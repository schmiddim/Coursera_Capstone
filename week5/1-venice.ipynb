{
 "cells": [
  {
   "cell_type": "markdown",
   "metadata": {},
   "source": [
    "# Getting Data from Wikipedia\n",
    "\n",
    "Wikipedia provides an powerful API called [Wikidata](https://www.wikidata.org/wiki/Wikidata:Main_Page) for fetching data out of the worlds largest Encyclopedia. There's a [Webinterface](https://query.wikidata.org/) for Querying the API in [SPARQL Syntax](https://www.w3.org/TR/rdf-sparql-query/)\n",
    "\n",
    "I'm using 2 Python3 Libraries \n",
    "\n",
    "- [qwikidata](https://pypi.org/project/qwikidata/) \n",
    "- [wikidata](https://pypi.org/project/Wikidata/)\n",
    "\n",
    "\n",
    "Every item in the Wikipdia is an Entity with labels + properties. In step 1 I have to get Entity Id's for each City "
   ]
  },
  {
   "cell_type": "code",
   "execution_count": 6,
   "metadata": {},
   "outputs": [
    {
     "name": "stdout",
     "output_type": "stream",
     "text": [
      "Entity Id for Venice is Q641\n"
     ]
    }
   ],
   "source": [
    "def get_entity_id_for_city_by_name(city_name):\n",
    "    \"\"\"\n",
    "    \n",
    "    :param city_name: \n",
    "    :return: string Wikidata entity_id \n",
    "    \"\"\"\n",
    "    sparql_query = \"\"\"\n",
    "    SELECT ?item ?itemLabel\n",
    "    WHERE {{ \n",
    "        ?item wdt:P31/wdt:P279* wd:Q515 .\n",
    "      ?item rdfs:label ?itemLabel. \n",
    "      FILTER(CONTAINS(LCASE(?itemLabel), \"{}\"@en)). \n",
    "    }} limit 1\n",
    "    \n",
    "    \"\"\".format(city_name.lower())\n",
    "    res = return_sparql_query_results(sparql_query)\n",
    "    url = res.get(\"results\").get(\"bindings\")[0].get('item').get('value')\n",
    "\n",
    "    return url.replace('http://www.wikidata.org/entity/', '')\n",
    "\n",
    "\n",
    "city = \"Venice\"\n",
    "entity_id = get_entity_id_for_city_by_name(city_name=city)\n",
    "print(\"Entity Id for\", city, \"is\", entity_id)"
   ]
  },
  {
   "cell_type": "markdown",
   "metadata": {},
   "source": [
    "Wikidata returns a bunch of interesting informations about Venice - please visit the url [https://www.wikidata.org/wiki/Q641](https://www.wikidata.org/wiki/Q641) to get an intuition about the datasets.\n",
    "\n",
    "The API is unfortunately not very reliable - Instead of results it sometimes returns \"Bad Gateway\". I'm using cached data to ensure reliable results in my notebook.\n",
    "\n",
    "I wrote a Class that collects methods to retrieve all relevant informations like **Name of the City**, **Population**, **Area**, **Population Density**, **Coordinates**, **Bouroughs** for my capstone project.\n"
   ]
  },
  {
   "cell_type": "code",
   "execution_count": 7,
   "metadata": {},
   "outputs": [],
   "source": [
    "from qwikidata.linked_data_interface import get_entity_dict_from_api\n",
    "import pandas as pd\n",
    "from wikidata.client import Client\n",
    "\n",
    "\n",
    "class WikiDataWrapper:\n",
    "    def __init__(self, entity_id):\n",
    "        self.entity_id = entity_id\n",
    "        self.entity = get_entity_dict_from_api(entity_id)\n",
    "\n",
    "    def get_name(self):\n",
    "        return self.entity.get('labels').get(\"en\").get(\"value\")\n",
    "\n",
    "    def get_image_from_entity_dict(self):\n",
    "        \"\"\"\n",
    "        Returns url to the full image path\n",
    "        @see https://stackoverflow.com/a/34402875\n",
    "        :return:\n",
    "        \"\"\"\n",
    "        client = Client()\n",
    "        entity = client.get(self.entity_id, load=True)\n",
    "\n",
    "        image_prop = client.get(\"P18\")\n",
    "        image = entity[image_prop]\n",
    "        return image.image_url\n",
    "\n",
    "    def get_coordinate_location(self):\n",
    "        \"\"\"\n",
    "        :return: lat, lon\n",
    "        \"\"\"\n",
    "        property = self.entity.get(\"claims\").get(\"P625\")[0].get('mainsnak').get('datavalue').get('value')\n",
    "        return property.get('latitude'), property.get('longitude')\n",
    "\n",
    "    def get_population(self):\n",
    "        \"\"\"\n",
    "        https://www.wikidata.org/wiki/Property:P1082 population\n",
    "        :return:\n",
    "        \"\"\"\n",
    "        property = self.entity.get(\"claims\").get(\"P1082\")[-1].get('mainsnak').get('datavalue').get('value').get(\n",
    "            \"amount\")\n",
    "        return int(property)\n",
    "\n",
    "    def get_area(self):\n",
    "        \"\"\"\n",
    "        https://www.wikidata.org/wiki/Property:P2046 area 415,9 m^2\n",
    "        :return:\n",
    "        \"\"\"\n",
    "        property = self.entity.get(\"claims\").get(\"P2046\")[-1].get('mainsnak').get('datavalue').get('value').get(\n",
    "            \"amount\")\n",
    "        return float(property)\n",
    "\n",
    "    def get_population_density(self):\n",
    "        return self.get_population() / self.get_area()\n",
    "\n",
    "    def get_boroughs(self):\n",
    "        \"\"\"\n",
    "\n",
    "        Venice Q641 has  6 boroughs\n",
    "            - Cannaregio (including San Michele),\n",
    "            - San Polo,\n",
    "            - Dorsoduro (including Giudecca and Sacca Fisola),\n",
    "            - Santa Croce,\n",
    "            - San Marco (including San Giorgio Maggiore) and\n",
    "            - Castello (including San Pietro di Castello and Sant'Elena).\n",
    "         https://www.wikidata.org/wiki/Property:P150        contains administrative territorial entity\n",
    "        :return:\n",
    "        \"\"\"\n",
    "        property = self.entity.get(\"claims\").get(\"P150\")\n",
    "        # @Todo Q_TRIER = \"Q3138\" has NO P150\n",
    "        if property is None:\n",
    "            print(self.entity_id, \"has no P150\")\n",
    "            return []\n",
    "        bourough_ids = []\n",
    "        bouroughs = []\n",
    "\n",
    "        for item in property:\n",
    "            entity = item.get(\"mainsnak\").get(\"datavalue\").get('value').get('id')\n",
    "            bourough_ids.append(entity)\n",
    "\n",
    "        for entity_id in bourough_ids:\n",
    "            entity = get_entity_dict_from_api(entity_id)\n",
    "            english_label = entity.get('labels').get(\"en\")\n",
    "            if None is english_label:\n",
    "                key = next(iter(entity.get('labels')))\n",
    "                bourough_name = entity.get('labels').get(key).get(\"value\")\n",
    "            else:\n",
    "                bourough_name = entity.get('labels').get(\"en\").get(\"value\")\n",
    "            property = entity.get(\"claims\").get(\"P625\")[0].get('mainsnak').get('datavalue').get('value')\n",
    "            lat, lon = property.get('latitude'), property.get('longitude')\n",
    "\n",
    "            bouroughs.append({\"Name\": bourough_name, \"Lat\": lat, \"Lon\": lon})\n",
    "\n",
    "        return bouroughs\n",
    "\n",
    "    def get_series_for_data_frame(self):\n",
    "        lat, lon = self.get_coordinate_location()\n",
    "        return {'Name': self.get_name(),\n",
    "                \"EntityID\": self.entity_id,\n",
    "                'Population': self.get_population(),\n",
    "                'Area': self.get_area(),\n",
    "                'PopulationDensity': self.get_population_density(),\n",
    "                'Lat': lat,\n",
    "                'Lon': lon,\n",
    "                'Image': self.get_image_from_entity_dict(),\n",
    "                \"Bouroughs\": self.get_boroughs()\n",
    "                }\n"
   ]
  },
  {
   "cell_type": "markdown",
   "metadata": {},
   "source": [
    "### Now we are able to extract some interesting informations with basic python3 and present them"
   ]
  },
  {
   "cell_type": "code",
   "execution_count": 68,
   "metadata": {},
   "outputs": [
    {
     "data": {
      "text/html": [
       "<div>\n",
       "<style scoped>\n",
       "    .dataframe tbody tr th:only-of-type {\n",
       "        vertical-align: middle;\n",
       "    }\n",
       "\n",
       "    .dataframe tbody tr th {\n",
       "        vertical-align: top;\n",
       "    }\n",
       "\n",
       "    .dataframe thead th {\n",
       "        text-align: right;\n",
       "    }\n",
       "</style>\n",
       "<table border=\"1\" class=\"dataframe\">\n",
       "  <thead>\n",
       "    <tr style=\"text-align: right;\">\n",
       "      <th></th>\n",
       "      <th>Area</th>\n",
       "      <th>Bouroughs</th>\n",
       "      <th>Image</th>\n",
       "      <th>Lat</th>\n",
       "      <th>Lon</th>\n",
       "      <th>Name</th>\n",
       "      <th>Population</th>\n",
       "      <th>PopulationDensity</th>\n",
       "    </tr>\n",
       "    <tr>\n",
       "      <th>EntityID</th>\n",
       "      <th></th>\n",
       "      <th></th>\n",
       "      <th></th>\n",
       "      <th></th>\n",
       "      <th></th>\n",
       "      <th></th>\n",
       "      <th></th>\n",
       "      <th></th>\n",
       "    </tr>\n",
       "  </thead>\n",
       "  <tbody>\n",
       "    <tr>\n",
       "      <th>Q641</th>\n",
       "      <td>415.9</td>\n",
       "      <td>[{'Name': 'Municipality 1 Venezia-Murano-Buran...</td>\n",
       "      <td>https://upload.wikimedia.org/wikipedia/commons...</td>\n",
       "      <td>45.439722</td>\n",
       "      <td>12.331944</td>\n",
       "      <td>Venice</td>\n",
       "      <td>261321.0</td>\n",
       "      <td>628.326521</td>\n",
       "    </tr>\n",
       "  </tbody>\n",
       "</table>\n",
       "</div>"
      ],
      "text/plain": [
       "           Area                                          Bouroughs  \\\n",
       "EntityID                                                             \n",
       "Q641      415.9  [{'Name': 'Municipality 1 Venezia-Murano-Buran...   \n",
       "\n",
       "                                                      Image        Lat  \\\n",
       "EntityID                                                                 \n",
       "Q641      https://upload.wikimedia.org/wikipedia/commons...  45.439722   \n",
       "\n",
       "                Lon    Name  Population  PopulationDensity  \n",
       "EntityID                                                    \n",
       "Q641      12.331944  Venice    261321.0         628.326521  "
      ]
     },
     "execution_count": 68,
     "metadata": {},
     "output_type": "execute_result"
    }
   ],
   "source": [
    "wrapper = WikiDataWrapper(entity_id)\n",
    "df_cities = pd.DataFrame()\n",
    "df_cities = df_cities.append(wrapper.get_series_for_data_frame(), ignore_index=True)\n",
    "\n",
    "df_cities.set_index(\"EntityID\",inplace=True)\n",
    "df_cities.head()\n"
   ]
  },
  {
   "cell_type": "code",
   "execution_count": 76,
   "metadata": {},
   "outputs": [
    {
     "name": "stdout",
     "output_type": "stream",
     "text": [
      "Venice\n",
      "Population of the City 261321.0\n",
      "Area 415.9 km^2\n",
      "Population Density 628.33 Humans / km^2 \n"
     ]
    },
    {
     "data": {
      "text/html": [
       "<img src=\"https://upload.wikimedia.org/wikipedia/commons/f/f8/Venice_Old_Town_Lagoon_Aerial_View.jpg\"/>"
      ],
      "text/plain": [
       "<IPython.core.display.Image object>"
      ]
     },
     "metadata": {},
     "output_type": "display_data"
    }
   ],
   "source": [
    "from IPython.display import Image\n",
    "from IPython.core.display import HTML\n",
    "print(df_cities.loc['Q641']['Name'])\n",
    "print(\"Population of the City\", df_cities.loc['Q641']['Population'])\n",
    "print(\"Area\", df_cities.loc['Q641']['Area'], \"km^2\")\n",
    "print(\"Population Density\", round(df_cities.loc['Q641']['PopulationDensity'],2) ,  \"Humans / km^2 \" )\n",
    "\n",
    "display(Image(url= df_cities.loc['Q641']['Image']))"
   ]
  },
  {
   "cell_type": "markdown",
   "metadata": {},
   "source": [
    "# Let's identify the Bouroughs of Venice"
   ]
  },
  {
   "cell_type": "code",
   "execution_count": 109,
   "metadata": {},
   "outputs": [
    {
     "name": "stdout",
     "output_type": "stream",
     "text": [
      "Municipality 1 Venezia-Murano-Burano\n",
      "Municipality Lido-PellestrinaLido-Pellestrina\n",
      "Municipalità di Chirignago-Zelarino\n",
      "Municipalità di Favaro Veneto\n",
      "Municipalità di Marghera\n",
      "Municipalità di Mestre-Carpenedo\n"
     ]
    }
   ],
   "source": [
    "for b in  (df_cities.loc['Q641']['Bouroughs']):\n",
    "    print(b['Name'])"
   ]
  },
  {
   "cell_type": "code",
   "execution_count": 112,
   "metadata": {},
   "outputs": [
    {
     "data": {
      "text/html": [
       "<div style=\"width:100%;\"><div style=\"position:relative;width:100%;height:0;padding-bottom:60%;\"><iframe src=\"data:text/html;charset=utf-8;base64,PCFET0NUWVBFIGh0bWw+CjxoZWFkPiAgICAKICAgIDxtZXRhIGh0dHAtZXF1aXY9ImNvbnRlbnQtdHlwZSIgY29udGVudD0idGV4dC9odG1sOyBjaGFyc2V0PVVURi04IiAvPgogICAgCiAgICAgICAgPHNjcmlwdD4KICAgICAgICAgICAgTF9OT19UT1VDSCA9IGZhbHNlOwogICAgICAgICAgICBMX0RJU0FCTEVfM0QgPSBmYWxzZTsKICAgICAgICA8L3NjcmlwdD4KICAgIAogICAgPHNjcmlwdCBzcmM9Imh0dHBzOi8vY2RuLmpzZGVsaXZyLm5ldC9ucG0vbGVhZmxldEAxLjUuMS9kaXN0L2xlYWZsZXQuanMiPjwvc2NyaXB0PgogICAgPHNjcmlwdCBzcmM9Imh0dHBzOi8vY29kZS5qcXVlcnkuY29tL2pxdWVyeS0xLjEyLjQubWluLmpzIj48L3NjcmlwdD4KICAgIDxzY3JpcHQgc3JjPSJodHRwczovL21heGNkbi5ib290c3RyYXBjZG4uY29tL2Jvb3RzdHJhcC8zLjIuMC9qcy9ib290c3RyYXAubWluLmpzIj48L3NjcmlwdD4KICAgIDxzY3JpcHQgc3JjPSJodHRwczovL2NkbmpzLmNsb3VkZmxhcmUuY29tL2FqYXgvbGlicy9MZWFmbGV0LmF3ZXNvbWUtbWFya2Vycy8yLjAuMi9sZWFmbGV0LmF3ZXNvbWUtbWFya2Vycy5qcyI+PC9zY3JpcHQ+CiAgICA8bGluayByZWw9InN0eWxlc2hlZXQiIGhyZWY9Imh0dHBzOi8vY2RuLmpzZGVsaXZyLm5ldC9ucG0vbGVhZmxldEAxLjUuMS9kaXN0L2xlYWZsZXQuY3NzIi8+CiAgICA8bGluayByZWw9InN0eWxlc2hlZXQiIGhyZWY9Imh0dHBzOi8vbWF4Y2RuLmJvb3RzdHJhcGNkbi5jb20vYm9vdHN0cmFwLzMuMi4wL2Nzcy9ib290c3RyYXAubWluLmNzcyIvPgogICAgPGxpbmsgcmVsPSJzdHlsZXNoZWV0IiBocmVmPSJodHRwczovL21heGNkbi5ib290c3RyYXBjZG4uY29tL2Jvb3RzdHJhcC8zLjIuMC9jc3MvYm9vdHN0cmFwLXRoZW1lLm1pbi5jc3MiLz4KICAgIDxsaW5rIHJlbD0ic3R5bGVzaGVldCIgaHJlZj0iaHR0cHM6Ly9tYXhjZG4uYm9vdHN0cmFwY2RuLmNvbS9mb250LWF3ZXNvbWUvNC42LjMvY3NzL2ZvbnQtYXdlc29tZS5taW4uY3NzIi8+CiAgICA8bGluayByZWw9InN0eWxlc2hlZXQiIGhyZWY9Imh0dHBzOi8vY2RuanMuY2xvdWRmbGFyZS5jb20vYWpheC9saWJzL0xlYWZsZXQuYXdlc29tZS1tYXJrZXJzLzIuMC4yL2xlYWZsZXQuYXdlc29tZS1tYXJrZXJzLmNzcyIvPgogICAgPGxpbmsgcmVsPSJzdHlsZXNoZWV0IiBocmVmPSJodHRwczovL3Jhd2Nkbi5naXRoYWNrLmNvbS9weXRob24tdmlzdWFsaXphdGlvbi9mb2xpdW0vbWFzdGVyL2ZvbGl1bS90ZW1wbGF0ZXMvbGVhZmxldC5hd2Vzb21lLnJvdGF0ZS5jc3MiLz4KICAgIDxzdHlsZT5odG1sLCBib2R5IHt3aWR0aDogMTAwJTtoZWlnaHQ6IDEwMCU7bWFyZ2luOiAwO3BhZGRpbmc6IDA7fTwvc3R5bGU+CiAgICA8c3R5bGU+I21hcCB7cG9zaXRpb246YWJzb2x1dGU7dG9wOjA7Ym90dG9tOjA7cmlnaHQ6MDtsZWZ0OjA7fTwvc3R5bGU+CiAgICAKICAgICAgICAgICAgPG1ldGEgbmFtZT0idmlld3BvcnQiIGNvbnRlbnQ9IndpZHRoPWRldmljZS13aWR0aCwKICAgICAgICAgICAgICAgIGluaXRpYWwtc2NhbGU9MS4wLCBtYXhpbXVtLXNjYWxlPTEuMCwgdXNlci1zY2FsYWJsZT1ubyIgLz4KICAgICAgICAgICAgPHN0eWxlPgogICAgICAgICAgICAgICAgI21hcF85MjNjZTU5YzBmMGM0ODhkYjM3NzUwYmNkOWMwY2RlZCB7CiAgICAgICAgICAgICAgICAgICAgcG9zaXRpb246IHJlbGF0aXZlOwogICAgICAgICAgICAgICAgICAgIHdpZHRoOiAxMDAuMCU7CiAgICAgICAgICAgICAgICAgICAgaGVpZ2h0OiAxMDAuMCU7CiAgICAgICAgICAgICAgICAgICAgbGVmdDogMC4wJTsKICAgICAgICAgICAgICAgICAgICB0b3A6IDAuMCU7CiAgICAgICAgICAgICAgICB9CiAgICAgICAgICAgIDwvc3R5bGU+CiAgICAgICAgCjwvaGVhZD4KPGJvZHk+ICAgIAogICAgCiAgICAgICAgICAgIDxkaXYgY2xhc3M9ImZvbGl1bS1tYXAiIGlkPSJtYXBfOTIzY2U1OWMwZjBjNDg4ZGIzNzc1MGJjZDljMGNkZWQiID48L2Rpdj4KICAgICAgICAKPC9ib2R5Pgo8c2NyaXB0PiAgICAKICAgIAogICAgICAgICAgICB2YXIgbWFwXzkyM2NlNTljMGYwYzQ4OGRiMzc3NTBiY2Q5YzBjZGVkID0gTC5tYXAoCiAgICAgICAgICAgICAgICAibWFwXzkyM2NlNTljMGYwYzQ4OGRiMzc3NTBiY2Q5YzBjZGVkIiwKICAgICAgICAgICAgICAgIHsKICAgICAgICAgICAgICAgICAgICBjZW50ZXI6IFs0NS40Mzk3MjIyMjIyMjIsIDEyLjMzMTk0NDQ0NDQ0NF0sCiAgICAgICAgICAgICAgICAgICAgY3JzOiBMLkNSUy5FUFNHMzg1NywKICAgICAgICAgICAgICAgICAgICB6b29tOiAxMiwKICAgICAgICAgICAgICAgICAgICB6b29tQ29udHJvbDogdHJ1ZSwKICAgICAgICAgICAgICAgICAgICBwcmVmZXJDYW52YXM6IGZhbHNlLAogICAgICAgICAgICAgICAgfQogICAgICAgICAgICApOwoKICAgICAgICAgICAgCgogICAgICAgIAogICAgCiAgICAgICAgICAgIHZhciB0aWxlX2xheWVyXzU1NTViMmVhODBkNjQ0ZTA5YmQ5ZmE1MDk5MGY4MjMyID0gTC50aWxlTGF5ZXIoCiAgICAgICAgICAgICAgICAiaHR0cHM6Ly97c30udGlsZS5vcGVuc3RyZWV0bWFwLm9yZy97en0ve3h9L3t5fS5wbmciLAogICAgICAgICAgICAgICAgeyJhdHRyaWJ1dGlvbiI6ICJEYXRhIGJ5IFx1MDAyNmNvcHk7IFx1MDAzY2EgaHJlZj1cImh0dHA6Ly9vcGVuc3RyZWV0bWFwLm9yZ1wiXHUwMDNlT3BlblN0cmVldE1hcFx1MDAzYy9hXHUwMDNlLCB1bmRlciBcdTAwM2NhIGhyZWY9XCJodHRwOi8vd3d3Lm9wZW5zdHJlZXRtYXAub3JnL2NvcHlyaWdodFwiXHUwMDNlT0RiTFx1MDAzYy9hXHUwMDNlLiIsICJkZXRlY3RSZXRpbmEiOiBmYWxzZSwgIm1heE5hdGl2ZVpvb20iOiAxOCwgIm1heFpvb20iOiAxOCwgIm1pblpvb20iOiAwLCAibm9XcmFwIjogZmFsc2UsICJvcGFjaXR5IjogMSwgInN1YmRvbWFpbnMiOiAiYWJjIiwgInRtcyI6IGZhbHNlfQogICAgICAgICAgICApLmFkZFRvKG1hcF85MjNjZTU5YzBmMGM0ODhkYjM3NzUwYmNkOWMwY2RlZCk7CiAgICAgICAgCiAgICAKICAgICAgICAgICAgdmFyIGNpcmNsZV9tYXJrZXJfZDU1ZTIxYjk1MTJlNDM5ZjhhNzQ1MGU4MTQwYmJmZTAgPSBMLmNpcmNsZU1hcmtlcigKICAgICAgICAgICAgICAgIFs0NS40MzY5NDQ0NDQ0NDQsIDEyLjM0NTgzMzMzMzMzM10sCiAgICAgICAgICAgICAgICB7ImJ1YmJsaW5nTW91c2VFdmVudHMiOiB0cnVlLCAiY29sb3IiOiAicmVkIiwgImRhc2hBcnJheSI6IG51bGwsICJkYXNoT2Zmc2V0IjogbnVsbCwgImZpbGwiOiB0cnVlLCAiZmlsbENvbG9yIjogIiMzMTg2Y2MiLCAiZmlsbE9wYWNpdHkiOiAwLjcsICJmaWxsUnVsZSI6ICJldmVub2RkIiwgImxpbmVDYXAiOiAicm91bmQiLCAibGluZUpvaW4iOiAicm91bmQiLCAib3BhY2l0eSI6IDEuMCwgInJhZGl1cyI6IDUsICJzdHJva2UiOiB0cnVlLCAid2VpZ2h0IjogM30KICAgICAgICAgICAgKS5hZGRUbyhtYXBfOTIzY2U1OWMwZjBjNDg4ZGIzNzc1MGJjZDljMGNkZWQpOwogICAgICAgIAogICAgCiAgICAgICAgdmFyIHBvcHVwXzU3ZDliOGU3YTE3ZDQ0ZTc4NjZhMWQzMGM5ZjE5YzVmID0gTC5wb3B1cCh7Im1heFdpZHRoIjogIjEwMCUifSk7CgogICAgICAgIAogICAgICAgICAgICB2YXIgaHRtbF9jZDc4MDcxM2M5N2U0MGYxYWI1OGM1Y2Q2OTU5MWU0MiA9ICQoYDxkaXYgaWQ9Imh0bWxfY2Q3ODA3MTNjOTdlNDBmMWFiNThjNWNkNjk1OTFlNDIiIHN0eWxlPSJ3aWR0aDogMTAwLjAlOyBoZWlnaHQ6IDEwMC4wJTsiPk11bmljaXBhbGl0eSAxIFZlbmV6aWEtTXVyYW5vLUJ1cmFubzwvZGl2PmApWzBdOwogICAgICAgICAgICBwb3B1cF81N2Q5YjhlN2ExN2Q0NGU3ODY2YTFkMzBjOWYxOWM1Zi5zZXRDb250ZW50KGh0bWxfY2Q3ODA3MTNjOTdlNDBmMWFiNThjNWNkNjk1OTFlNDIpOwogICAgICAgIAoKICAgICAgICBjaXJjbGVfbWFya2VyX2Q1NWUyMWI5NTEyZTQzOWY4YTc0NTBlODE0MGJiZmUwLmJpbmRQb3B1cChwb3B1cF81N2Q5YjhlN2ExN2Q0NGU3ODY2YTFkMzBjOWYxOWM1ZikKICAgICAgICA7CgogICAgICAgIAogICAgCiAgICAKICAgICAgICAgICAgdmFyIGNpcmNsZV9tYXJrZXJfY2NmYjZhZDMzYWQ0NGRiODhhYWU2YmZkNjBlZjQxODAgPSBMLmNpcmNsZU1hcmtlcigKICAgICAgICAgICAgICAgIFs0NS40MTMyMywgMTIuMzY3MTNdLAogICAgICAgICAgICAgICAgeyJidWJibGluZ01vdXNlRXZlbnRzIjogdHJ1ZSwgImNvbG9yIjogInJlZCIsICJkYXNoQXJyYXkiOiBudWxsLCAiZGFzaE9mZnNldCI6IG51bGwsICJmaWxsIjogdHJ1ZSwgImZpbGxDb2xvciI6ICIjMzE4NmNjIiwgImZpbGxPcGFjaXR5IjogMC43LCAiZmlsbFJ1bGUiOiAiZXZlbm9kZCIsICJsaW5lQ2FwIjogInJvdW5kIiwgImxpbmVKb2luIjogInJvdW5kIiwgIm9wYWNpdHkiOiAxLjAsICJyYWRpdXMiOiA1LCAic3Ryb2tlIjogdHJ1ZSwgIndlaWdodCI6IDN9CiAgICAgICAgICAgICkuYWRkVG8obWFwXzkyM2NlNTljMGYwYzQ4OGRiMzc3NTBiY2Q5YzBjZGVkKTsKICAgICAgICAKICAgIAogICAgICAgIHZhciBwb3B1cF8wODM4MWQ1Nzc0N2Y0YTc5ODlmYjBmYmVhNjc0ZWRkNCA9IEwucG9wdXAoeyJtYXhXaWR0aCI6ICIxMDAlIn0pOwoKICAgICAgICAKICAgICAgICAgICAgdmFyIGh0bWxfMmFjMzhlNTljNzIzNDlhNWEzZjdlYTZjZjlmNmVmZGYgPSAkKGA8ZGl2IGlkPSJodG1sXzJhYzM4ZTU5YzcyMzQ5YTVhM2Y3ZWE2Y2Y5ZjZlZmRmIiBzdHlsZT0id2lkdGg6IDEwMC4wJTsgaGVpZ2h0OiAxMDAuMCU7Ij5NdW5pY2lwYWxpdHkgTGlkby1QZWxsZXN0cmluYUxpZG8tUGVsbGVzdHJpbmE8L2Rpdj5gKVswXTsKICAgICAgICAgICAgcG9wdXBfMDgzODFkNTc3NDdmNGE3OTg5ZmIwZmJlYTY3NGVkZDQuc2V0Q29udGVudChodG1sXzJhYzM4ZTU5YzcyMzQ5YTVhM2Y3ZWE2Y2Y5ZjZlZmRmKTsKICAgICAgICAKCiAgICAgICAgY2lyY2xlX21hcmtlcl9jY2ZiNmFkMzNhZDQ0ZGI4OGFhZTZiZmQ2MGVmNDE4MC5iaW5kUG9wdXAocG9wdXBfMDgzODFkNTc3NDdmNGE3OTg5ZmIwZmJlYTY3NGVkZDQpCiAgICAgICAgOwoKICAgICAgICAKICAgIAogICAgCiAgICAgICAgICAgIHZhciBjaXJjbGVfbWFya2VyXzZlMThlNDI0MjYyZTRhNzM4MTQ1MzNiZjJjYzVkMzZmID0gTC5jaXJjbGVNYXJrZXIoCiAgICAgICAgICAgICAgICBbNDUuNDg0NDQ0LCAxMi4xODg2MTFdLAogICAgICAgICAgICAgICAgeyJidWJibGluZ01vdXNlRXZlbnRzIjogdHJ1ZSwgImNvbG9yIjogInJlZCIsICJkYXNoQXJyYXkiOiBudWxsLCAiZGFzaE9mZnNldCI6IG51bGwsICJmaWxsIjogdHJ1ZSwgImZpbGxDb2xvciI6ICIjMzE4NmNjIiwgImZpbGxPcGFjaXR5IjogMC43LCAiZmlsbFJ1bGUiOiAiZXZlbm9kZCIsICJsaW5lQ2FwIjogInJvdW5kIiwgImxpbmVKb2luIjogInJvdW5kIiwgIm9wYWNpdHkiOiAxLjAsICJyYWRpdXMiOiA1LCAic3Ryb2tlIjogdHJ1ZSwgIndlaWdodCI6IDN9CiAgICAgICAgICAgICkuYWRkVG8obWFwXzkyM2NlNTljMGYwYzQ4OGRiMzc3NTBiY2Q5YzBjZGVkKTsKICAgICAgICAKICAgIAogICAgICAgIHZhciBwb3B1cF82MWVmOWQ2NDUwNzE0NzZiYWFhNTAyZTc0NGY2ZjIyOSA9IEwucG9wdXAoeyJtYXhXaWR0aCI6ICIxMDAlIn0pOwoKICAgICAgICAKICAgICAgICAgICAgdmFyIGh0bWxfZDkyMTE5ZjhkZTExNDM0ZDg2ZGUwYWEwMjA0NTI1Y2IgPSAkKGA8ZGl2IGlkPSJodG1sX2Q5MjExOWY4ZGUxMTQzNGQ4NmRlMGFhMDIwNDUyNWNiIiBzdHlsZT0id2lkdGg6IDEwMC4wJTsgaGVpZ2h0OiAxMDAuMCU7Ij5NdW5pY2lwYWxpdMOgIGRpIENoaXJpZ25hZ28tWmVsYXJpbm88L2Rpdj5gKVswXTsKICAgICAgICAgICAgcG9wdXBfNjFlZjlkNjQ1MDcxNDc2YmFhYTUwMmU3NDRmNmYyMjkuc2V0Q29udGVudChodG1sX2Q5MjExOWY4ZGUxMTQzNGQ4NmRlMGFhMDIwNDUyNWNiKTsKICAgICAgICAKCiAgICAgICAgY2lyY2xlX21hcmtlcl82ZTE4ZTQyNDI2MmU0YTczODE0NTMzYmYyY2M1ZDM2Zi5iaW5kUG9wdXAocG9wdXBfNjFlZjlkNjQ1MDcxNDc2YmFhYTUwMmU3NDRmNmYyMjkpCiAgICAgICAgOwoKICAgICAgICAKICAgIAogICAgCiAgICAgICAgICAgIHZhciBjaXJjbGVfbWFya2VyX2IyOWQ0NmM1NjA2NjQ3MTM5NTc5YzY4NWY0OWI3NTc1ID0gTC5jaXJjbGVNYXJrZXIoCiAgICAgICAgICAgICAgICBbNDUuNTA0NDQ0LCAxMi4yODE5NDRdLAogICAgICAgICAgICAgICAgeyJidWJibGluZ01vdXNlRXZlbnRzIjogdHJ1ZSwgImNvbG9yIjogInJlZCIsICJkYXNoQXJyYXkiOiBudWxsLCAiZGFzaE9mZnNldCI6IG51bGwsICJmaWxsIjogdHJ1ZSwgImZpbGxDb2xvciI6ICIjMzE4NmNjIiwgImZpbGxPcGFjaXR5IjogMC43LCAiZmlsbFJ1bGUiOiAiZXZlbm9kZCIsICJsaW5lQ2FwIjogInJvdW5kIiwgImxpbmVKb2luIjogInJvdW5kIiwgIm9wYWNpdHkiOiAxLjAsICJyYWRpdXMiOiA1LCAic3Ryb2tlIjogdHJ1ZSwgIndlaWdodCI6IDN9CiAgICAgICAgICAgICkuYWRkVG8obWFwXzkyM2NlNTljMGYwYzQ4OGRiMzc3NTBiY2Q5YzBjZGVkKTsKICAgICAgICAKICAgIAogICAgICAgIHZhciBwb3B1cF84NjdkZDhiMTczYjY0YzY1YTFiMmUzMDNmMGFhNzA0OSA9IEwucG9wdXAoeyJtYXhXaWR0aCI6ICIxMDAlIn0pOwoKICAgICAgICAKICAgICAgICAgICAgdmFyIGh0bWxfNWI2MzAxY2M0Y2IxNGY5YjlmMjRlNTllNzQ0Yzg2NTIgPSAkKGA8ZGl2IGlkPSJodG1sXzViNjMwMWNjNGNiMTRmOWI5ZjI0ZTU5ZTc0NGM4NjUyIiBzdHlsZT0id2lkdGg6IDEwMC4wJTsgaGVpZ2h0OiAxMDAuMCU7Ij5NdW5pY2lwYWxpdMOgIGRpIEZhdmFybyBWZW5ldG88L2Rpdj5gKVswXTsKICAgICAgICAgICAgcG9wdXBfODY3ZGQ4YjE3M2I2NGM2NWExYjJlMzAzZjBhYTcwNDkuc2V0Q29udGVudChodG1sXzViNjMwMWNjNGNiMTRmOWI5ZjI0ZTU5ZTc0NGM4NjUyKTsKICAgICAgICAKCiAgICAgICAgY2lyY2xlX21hcmtlcl9iMjlkNDZjNTYwNjY0NzEzOTU3OWM2ODVmNDliNzU3NS5iaW5kUG9wdXAocG9wdXBfODY3ZGQ4YjE3M2I2NGM2NWExYjJlMzAzZjBhYTcwNDkpCiAgICAgICAgOwoKICAgICAgICAKICAgIAogICAgCiAgICAgICAgICAgIHZhciBjaXJjbGVfbWFya2VyXzVkZjYxMTA3ZGIwMjQ2NThhMDEyNmI2MmMxMTZkYzJmID0gTC5jaXJjbGVNYXJrZXIoCiAgICAgICAgICAgICAgICBbNDUuNDc1ODMzLCAxMi4yMjQ3MjJdLAogICAgICAgICAgICAgICAgeyJidWJibGluZ01vdXNlRXZlbnRzIjogdHJ1ZSwgImNvbG9yIjogInJlZCIsICJkYXNoQXJyYXkiOiBudWxsLCAiZGFzaE9mZnNldCI6IG51bGwsICJmaWxsIjogdHJ1ZSwgImZpbGxDb2xvciI6ICIjMzE4NmNjIiwgImZpbGxPcGFjaXR5IjogMC43LCAiZmlsbFJ1bGUiOiAiZXZlbm9kZCIsICJsaW5lQ2FwIjogInJvdW5kIiwgImxpbmVKb2luIjogInJvdW5kIiwgIm9wYWNpdHkiOiAxLjAsICJyYWRpdXMiOiA1LCAic3Ryb2tlIjogdHJ1ZSwgIndlaWdodCI6IDN9CiAgICAgICAgICAgICkuYWRkVG8obWFwXzkyM2NlNTljMGYwYzQ4OGRiMzc3NTBiY2Q5YzBjZGVkKTsKICAgICAgICAKICAgIAogICAgICAgIHZhciBwb3B1cF84MmY5N2M0ODRmODc0ZDhjOThlZDg5ODY3ZTdiNTI0MCA9IEwucG9wdXAoeyJtYXhXaWR0aCI6ICIxMDAlIn0pOwoKICAgICAgICAKICAgICAgICAgICAgdmFyIGh0bWxfZjgxNDRiZjQzODU3NGIxOTlmNjZkMzcyODg4MGU3ZjYgPSAkKGA8ZGl2IGlkPSJodG1sX2Y4MTQ0YmY0Mzg1NzRiMTk5ZjY2ZDM3Mjg4ODBlN2Y2IiBzdHlsZT0id2lkdGg6IDEwMC4wJTsgaGVpZ2h0OiAxMDAuMCU7Ij5NdW5pY2lwYWxpdMOgIGRpIE1hcmdoZXJhPC9kaXY+YClbMF07CiAgICAgICAgICAgIHBvcHVwXzgyZjk3YzQ4NGY4NzRkOGM5OGVkODk4NjdlN2I1MjQwLnNldENvbnRlbnQoaHRtbF9mODE0NGJmNDM4NTc0YjE5OWY2NmQzNzI4ODgwZTdmNik7CiAgICAgICAgCgogICAgICAgIGNpcmNsZV9tYXJrZXJfNWRmNjExMDdkYjAyNDY1OGEwMTI2YjYyYzExNmRjMmYuYmluZFBvcHVwKHBvcHVwXzgyZjk3YzQ4NGY4NzRkOGM5OGVkODk4NjdlN2I1MjQwKQogICAgICAgIDsKCiAgICAgICAgCiAgICAKICAgIAogICAgICAgICAgICB2YXIgY2lyY2xlX21hcmtlcl8yYzFiMDllMzYyYzA0MDljYWE3OGNhY2NjYmQyYWYxYSA9IEwuY2lyY2xlTWFya2VyKAogICAgICAgICAgICAgICAgWzQ1LjQ5Mzg4OSwgMTIuMjQxMzg5XSwKICAgICAgICAgICAgICAgIHsiYnViYmxpbmdNb3VzZUV2ZW50cyI6IHRydWUsICJjb2xvciI6ICJyZWQiLCAiZGFzaEFycmF5IjogbnVsbCwgImRhc2hPZmZzZXQiOiBudWxsLCAiZmlsbCI6IHRydWUsICJmaWxsQ29sb3IiOiAiIzMxODZjYyIsICJmaWxsT3BhY2l0eSI6IDAuNywgImZpbGxSdWxlIjogImV2ZW5vZGQiLCAibGluZUNhcCI6ICJyb3VuZCIsICJsaW5lSm9pbiI6ICJyb3VuZCIsICJvcGFjaXR5IjogMS4wLCAicmFkaXVzIjogNSwgInN0cm9rZSI6IHRydWUsICJ3ZWlnaHQiOiAzfQogICAgICAgICAgICApLmFkZFRvKG1hcF85MjNjZTU5YzBmMGM0ODhkYjM3NzUwYmNkOWMwY2RlZCk7CiAgICAgICAgCiAgICAKICAgICAgICB2YXIgcG9wdXBfNWJkNjhlMTc5NmVmNDhjZTgyYWJlNDljYWI4OTcxY2YgPSBMLnBvcHVwKHsibWF4V2lkdGgiOiAiMTAwJSJ9KTsKCiAgICAgICAgCiAgICAgICAgICAgIHZhciBodG1sXzg5ZjM1MTFiMGNmYjQ4YzY4ZjRkOTZlNDcyY2EzOWQxID0gJChgPGRpdiBpZD0iaHRtbF84OWYzNTExYjBjZmI0OGM2OGY0ZDk2ZTQ3MmNhMzlkMSIgc3R5bGU9IndpZHRoOiAxMDAuMCU7IGhlaWdodDogMTAwLjAlOyI+TXVuaWNpcGFsaXTDoCBkaSBNZXN0cmUtQ2FycGVuZWRvPC9kaXY+YClbMF07CiAgICAgICAgICAgIHBvcHVwXzViZDY4ZTE3OTZlZjQ4Y2U4MmFiZTQ5Y2FiODk3MWNmLnNldENvbnRlbnQoaHRtbF84OWYzNTExYjBjZmI0OGM2OGY0ZDk2ZTQ3MmNhMzlkMSk7CiAgICAgICAgCgogICAgICAgIGNpcmNsZV9tYXJrZXJfMmMxYjA5ZTM2MmMwNDA5Y2FhNzhjYWNjY2JkMmFmMWEuYmluZFBvcHVwKHBvcHVwXzViZDY4ZTE3OTZlZjQ4Y2U4MmFiZTQ5Y2FiODk3MWNmKQogICAgICAgIDsKCiAgICAgICAgCiAgICAKPC9zY3JpcHQ+\" style=\"position:absolute;width:100%;height:100%;left:0;top:0;border:none !important;\" allowfullscreen webkitallowfullscreen mozallowfullscreen></iframe></div></div>"
      ],
      "text/plain": [
       "<folium.folium.Map at 0x7fe970d05cc0>"
      ]
     },
     "execution_count": 112,
     "metadata": {},
     "output_type": "execute_result"
    }
   ],
   "source": [
    "import folium # map rendering library\n",
    "\n",
    "map = folium.Map(location=[df_cities.loc['Q641']['Lat'], df_cities.loc['Q641']['Lon']], zoom_start=12)\n",
    "\n",
    "for b in  (df_cities.loc['Q641']['Bouroughs']):\n",
    "    label = '{}'.format(b['Name'])\n",
    "    label = folium.Popup(label, parse_html=True)\n",
    "    folium.CircleMarker(\n",
    "        [b.get(\"Lat\"), b.get(\"Lon\")],\n",
    "        radius=5,\n",
    "        popup=label,\n",
    "        color='red',\n",
    "        fill=True,\n",
    "        fill_color='#3186cc',\n",
    "        fill_opacity=0.7,\n",
    "        parse_html=False).add_to(map)     \n",
    "map"
   ]
  },
  {
   "cell_type": "markdown",
   "metadata": {},
   "source": []
  },
  {
   "cell_type": "code",
   "execution_count": null,
   "metadata": {},
   "outputs": [],
   "source": []
  }
 ],
 "metadata": {
  "kernelspec": {
   "display_name": "Python 3",
   "language": "python",
   "name": "python3"
  },
  "language_info": {
   "codemirror_mode": {
    "name": "ipython",
    "version": 3
   },
   "file_extension": ".py",
   "mimetype": "text/x-python",
   "name": "python",
   "nbconvert_exporter": "python",
   "pygments_lexer": "ipython3",
   "version": "3.6.9"
  }
 },
 "nbformat": 4,
 "nbformat_minor": 2
}
